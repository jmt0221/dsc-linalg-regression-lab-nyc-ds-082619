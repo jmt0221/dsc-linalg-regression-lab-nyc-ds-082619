{
 "cells": [
  {
   "cell_type": "markdown",
   "metadata": {},
   "source": [
    "# Regression with Linear Algebra - Lab\n",
    "\n",
    "## Introduction\n",
    "\n",
    "In this lab, you'll apply regression analysis using simple matrix manipulations to fit a model to given data, and then predict new values for previously unseen data. You'll follow the approach highlighted in the previous lesson where you used Numpy to build the appropriate matrices and vectors and solve for the $\\beta$ (unknown variables) vector. The beta vector will be used with test data to make new predictions. You'll also evaluate the model fit.\n",
    "In order to make this experiment interesting, you'll use NumPy at every single stage of this experiment i.e. loading data, creating matrices, performing test train split, model fitting, and evaluations.\n",
    "  \n",
    "\n",
    "## Objectives\n",
    "\n",
    "You will be able to:\n",
    "\n",
    "* Use linear algebra to apply simple regression modeling in Python and NumPy only\n",
    "* Apply train/test split using permutations in NumPy\n",
    "* Use matrix algebra with inverses and dot products to calculate the beta\n",
    "* Make predictions from the fitted model using previously unseen input features \n",
    "* Evaluate the fitted model by calculating the error between real and predicted values\n",
    "\n",
    "\n",
    "First, let's import necessary libraries "
   ]
  },
  {
   "cell_type": "code",
   "execution_count": 1,
   "metadata": {},
   "outputs": [],
   "source": [
    "import csv # for reading csv file\n",
    "import pandas as pd\n",
    "import numpy as np"
   ]
  },
  {
   "cell_type": "markdown",
   "metadata": {},
   "source": [
    "## Dataset \n",
    "\n",
    "The dataset you'll use for this experiment is \"**Sales Prices in the City of Windsor, Canada**\", something very similar to the Boston Housing dataset. This dataset contains a number of input (independent) variables, including area, number of bedrooms/bathrooms, facilities(AC/garage), etc. and an output (dependent) variable, **price**.  You'll formulate a linear algebra problem to find linear mappings from input to out features using the equation provided in the previous lesson. \n",
    "\n",
    "This will allow you to find a relationship between house features and house price for the given data, allowing you to find unknown prices for houses, given the input features.  \n",
    "\n",
    "A description of the dataset and included features is available [here](https://rdrr.io/cran/Ecdat/man/Housing.html).\n",
    "\n",
    "In your repository, the dataset is available as `windsor_housing.csv` containing the following variables:\n",
    "\n",
    "there are 11 input features (first 11 columns):\n",
    "\n",
    "\tlotsize\tbedrooms  bathrms  stories\tdriveway  recroom\tfullbase  gashw\t airco  garagepl   prefarea\n",
    "\n",
    "and 1 output feature i.e. **price** (12th column). \n",
    "\n",
    "The focus of this lab is not really answering a preset analytical question, but to learn how you can perform a regression experiment, similar to the one you performed in statsmodels, using mathematical manipulations. So you won't be using any Pandas or statsmodels goodness here. The key objectives here are to \n",
    "- understand regression with matrix algebra and \n",
    "- mastery in NumPy scientific computation\n",
    "\n",
    "## Stage 1: Prepare Data for Modeling \n",
    "\n",
    "Let's give you a head start by importing the dataset. You'll perform the following steps to get the data ready for analysis:\n",
    "\n",
    "* Initialize an empty list `data` for loading data\n",
    "* Read the csv file containing complete (raw) `windsor_housing.csv`. [Use `csv.reader()` for loading data.](https://docs.python.org/3/library/csv.html). Store this in `data` one row at a time.\n",
    "\n",
    "* Drop the first row of csv file as it contains the names of variables (header) which won't be used during analysis (keeping this will cause errors as it contains text values).\n",
    "\n",
    "* Append a column of all 1s to the data (bias) as the first column\n",
    "\n",
    "* Convert `data` to a Numpy array and inspect first few rows \n",
    "\n",
    "NOTE: `read.csv()` reads the csv as a text file, so you should convert the contents to float."
   ]
  },
  {
   "cell_type": "code",
   "execution_count": 15,
   "metadata": {},
   "outputs": [
    {
     "data": {
      "text/plain": [
       "array([ 42000,  38500,  49500,  60500,  61000,  66000,  66000,  69000,\n",
       "        83800,  88500,  90000,  30500,  27000,  36000,  37000,  37900,\n",
       "        40500,  40750,  45000,  45000,  48500,  65900,  37900,  38000,\n",
       "        42000,  42300,  43500,  44000,  44500,  44900,  45000,  48000,\n",
       "        49000,  51500,  61000,  61000,  61700,  67000,  82000,  54500,\n",
       "        66500,  70000,  82000,  92000,  38000,  44000,  41000,  43000,\n",
       "        48000,  54800,  55000,  57000,  68000,  95000,  38000,  25000,\n",
       "        25245,  56000,  35500,  30000,  48000,  48000,  52000,  54000,\n",
       "        56000,  60000,  60000,  67000,  47000,  70000,  45000,  51000,\n",
       "        32500,  34000,  35000,  36000,  45000,  47000,  55000,  63900,\n",
       "        50000,  35000,  50000,  43000,  55500,  57000,  60000,  78000,\n",
       "        35000,  44000,  47000,  58000, 163000, 128000, 123500,  39000,\n",
       "        53900,  59900,  35000,  43000,  57000,  79000, 125000, 132000,\n",
       "        58000,  43000,  48000,  58500,  73000,  63500,  43000,  46500,\n",
       "        92000,  75000,  75000,  85000,  93000,  94500, 106500, 116000,\n",
       "        61500,  80000,  37000,  59500,  70000,  95000, 117000, 122500,\n",
       "       123500, 127000,  35000,  44500,  49900,  50500,  65000,  90000,\n",
       "        46000,  35000,  26500,  43000,  56000,  40000,  51000,  51000,\n",
       "        57250,  44000,  61000,  62000,  80000,  50000,  59900,  35500,\n",
       "        37000,  42000,  48000,  60000,  60000,  60000,  62000,  63000,\n",
       "        63900, 130000,  25000,  50000,  52900,  62000,  73500,  38000,\n",
       "        46000,  48000,  52500,  32000,  38000,  46000,  50000,  57500,\n",
       "        70000,  69900,  74500,  42000,  60000,  50000,  58000,  63900,\n",
       "        28000,  54000,  44700,  47000,  50000,  57250,  67000,  52500,\n",
       "        42000,  57500,  33000,  34400,  40000,  40500,  46500,  52000,\n",
       "        53000,  53900,  50000,  55500,  56000,  60000,  60000,  69500,\n",
       "        72000,  92500,  40500,  42000,  47900,  52000,  62000,  41000,\n",
       "       138300,  42000,  47000,  64500,  46000,  58000,  70100,  78500,\n",
       "        87250,  70800,  56000,  48000,  68000,  79000,  80000,  87000,\n",
       "        25000,  32500,  36000,  42500,  43000,  50000,  26000,  30000,\n",
       "        34000,  52000,  70000,  27000,  32500,  37200,  38000,  42000,\n",
       "        44500,  45000,  48500,  52000,  53900,  60000,  61000,  64500,\n",
       "        71000,  75500,  33500,  41000,  41000,  46200,  48500,  48900,\n",
       "        50000,  51000,  52500,  52500,  54000,  59000,  60000,  63000,\n",
       "        64000,  64900,  65000,  66000,  70000,  65500,  57000,  52000,\n",
       "        54000,  74500,  90000,  45000,  45000,  65000,  55000,  62000,\n",
       "        30000,  34000,  38000,  39000,  45000,  47000,  47500,  49000,\n",
       "        50000,  50000,  52900,  53000,  55000,  56000,  58500,  59500,\n",
       "        60000,  64000,  67000,  68100,  70000,  72000,  57500,  69900,\n",
       "        70000,  75000,  76900,  78000,  80000,  82000,  83000,  83000,\n",
       "        83900,  88500,  93000,  98000,  98500,  99000, 101000, 110000,\n",
       "       115442, 120000, 124000, 175000,  50000,  55000,  60000,  61000,\n",
       "       106000, 155000, 141000,  62500,  70000,  73000,  80000,  80000,\n",
       "        88000,  49000,  52000,  59500,  60000,  64000,  64500,  68500,\n",
       "        78500,  86000,  86900,  75000,  78000,  95000,  97000, 107000,\n",
       "       130000, 145000, 175000,  72000,  84900,  99000, 114000, 120000,\n",
       "       145000,  79000,  82000,  85000, 100500, 122000, 126500, 133000,\n",
       "       140000, 190000,  84000,  97000, 103500, 112500, 140000,  74700,\n",
       "        78000,  78900,  83900,  85000,  85000,  86000,  86900,  94500,\n",
       "        96000, 106000,  72000,  74500,  77000,  80750,  82900,  85000,\n",
       "        92500,  76000,  77500,  80000,  80000,  86000,  87000,  87500,\n",
       "        89000,  89900,  90000,  95000, 112000,  31900,  52000,  90000,\n",
       "       100000,  91700, 174500,  94700,  68000,  80000,  61100,  62900,\n",
       "        65500,  66000,  49500,  50000,  53500,  58550,  64500,  65000,\n",
       "        69000,  73000,  75000,  75000, 132000,  60000,  65000,  69000,\n",
       "        51900,  57000,  65000,  79500,  72500, 104900, 114900, 120000,\n",
       "        58000,  67000,  67000,  69000,  73000,  73500,  74900,  75000,\n",
       "        79500, 120900,  44555,  47000,  47600,  49000,  49000,  49000,\n",
       "        49500,  52000,  54000,  55000,  55000,  56000,  60000,  60500,\n",
       "        50000,  64900,  93000,  85000,  61500,  88500,  88000,  89000,\n",
       "        89500,  95000,  95500,  51500,  62900, 118500,  42900,  44100,\n",
       "        47000,  50000,  50000,  53000,  53000,  54000,  58500,  59000,\n",
       "        60000,  62900,  64000,  65000,  67900,  68500,  70000,  70500,\n",
       "        71500,  71900,  75000,  75000,  87000,  64000,  70000,  47500,\n",
       "        62600,  66000,  58900,  53000,  95000,  96500, 101000, 102000,\n",
       "       103000, 105000, 108000, 110000, 113000, 120000, 105000, 106000,\n",
       "       107500, 108000, 113750, 120000,  70000,  71000,  82000,  82000,\n",
       "        82500,  83000,  84000,  85000,  85000,  91500,  94000, 103000,\n",
       "       105000, 105000])"
      ]
     },
     "execution_count": 15,
     "metadata": {},
     "output_type": "execute_result"
    }
   ],
   "source": [
    "# Your Code here\n",
    "df = pd.read_csv('windsor_housing.csv')\n",
    "\n",
    "df = df.values\n",
    "\n",
    "X = df[:,:11]\n",
    "y = df[:,11]\n",
    "# First 5 rows of raw data \n",
    "\n",
    "# array([[1.00e+00, 5.85e+03, 3.00e+00, 1.00e+00, 2.00e+00, 1.00e+00,\n",
    "#         0.00e+00, 1.00e+00, 0.00e+00, 0.00e+00, 1.00e+00, 0.00e+00,\n",
    "#         4.20e+04],\n",
    "#        [1.00e+00, 4.00e+03, 2.00e+00, 1.00e+00, 1.00e+00, 1.00e+00,\n",
    "#         0.00e+00, 0.00e+00, 0.00e+00, 0.00e+00, 0.00e+00, 0.00e+00,\n",
    "#         3.85e+04],\n",
    "#        [1.00e+00, 3.06e+03, 3.00e+00, 1.00e+00, 1.00e+00, 1.00e+00,\n",
    "#         0.00e+00, 0.00e+00, 0.00e+00, 0.00e+00, 0.00e+00, 0.00e+00,\n",
    "#         4.95e+04],\n",
    "#        [1.00e+00, 6.65e+03, 3.00e+00, 1.00e+00, 2.00e+00, 1.00e+00,\n",
    "#         1.00e+00, 0.00e+00, 0.00e+00, 0.00e+00, 0.00e+00, 0.00e+00,\n",
    "#         6.05e+04],\n",
    "#        [1.00e+00, 6.36e+03, 2.00e+00, 1.00e+00, 1.00e+00, 1.00e+00,\n",
    "#         0.00e+00, 0.00e+00, 0.00e+00, 0.00e+00, 0.00e+00, 0.00e+00,\n",
    "#         6.10e+04]])\n"
   ]
  },
  {
   "cell_type": "markdown",
   "metadata": {},
   "source": [
    "## Step 2: Perform a 80/20 test train Split\n",
    "\n",
    "Explore NumPy's official documentation to manually split a dataset using a random sampling method of your choice. Some useful methods are located in the [numpy.random library](https://docs.scipy.org/doc/numpy-1.14.0/reference/routines.random.html).\n",
    "* Perform a **random** 80/20 split on data using a method of your choice in NumPy\n",
    "* Create x_test, y_test, x_train and y_train arrays from the split data\n",
    "* Inspect the contents to see if the split performed as expected"
   ]
  },
  {
   "cell_type": "code",
   "execution_count": 19,
   "metadata": {},
   "outputs": [
    {
     "data": {
      "text/plain": [
       "(436, 11)"
      ]
     },
     "execution_count": 19,
     "metadata": {},
     "output_type": "execute_result"
    }
   ],
   "source": [
    "# Your code here \n",
    "from sklearn.model_selection import train_test_split\n",
    "X_train,X_test,y_train,y_test = train_test_split(X,y,test_size=.2,random_state=45)\n",
    "\n",
    "\n",
    "# Split results\n",
    "X_train.shape\n",
    "# Raw data Shape:  (546, 13)\n",
    "# Train/Test Split: (437, 13) (109, 13)\n",
    "# x_train, y_train, x_test, y_test: (437, 12) (437,) (109, 12) (109,)"
   ]
  },
  {
   "cell_type": "markdown",
   "metadata": {},
   "source": [
    "## Step 3: Calculate the `beta` \n",
    "\n",
    "With $X$ and $y$ in place, you can now compute your beta values with $x_\\text{train}$ and $y_\\text{train}$ as:\n",
    "#### $\\beta = (x_\\text{train}^T. x_\\text{train})^{-1} . x_\\text{train}^T . y_\\text{train}$\n",
    "\n",
    "* Using numpy operations (transpose, inverse) that we saw earlier, compute the above equation in steps.\n",
    "* Print your beta values"
   ]
  },
  {
   "cell_type": "code",
   "execution_count": null,
   "metadata": {},
   "outputs": [],
   "source": [
    "# Your code here \n",
    "X_t\n",
    "\n",
    "\n",
    "# Calculated beta values\n",
    "\n",
    "\n",
    "# Due to random split, your answers may vary \n",
    "# [-4.48935874e+03  3.25291905e+00  2.51041471e+03  1.38887244e+04\n",
    "#  6.36181829e+03  7.97134681e+03  6.73696187e+03  4.00955575e+03\n",
    "#  8.67978657e+03  1.26886121e+04  4.20044707e+03  8.63557510e+03]"
   ]
  },
  {
   "cell_type": "markdown",
   "metadata": {},
   "source": [
    "## Step 4: Make Predictions\n",
    "Great, you now have a set of coefficients that describe the linear mappings between $X$ and $y$. You can now use the calculated beta values with the test datasets that we left out to calculate $y$ predictions. Next, use all features in turn and multiply it with this beta. The result will give a prediction for each row which you can append to a new array of predictions.\n",
    "\n",
    "$\\hat{y} = x\\beta = \\beta_0 + \\beta_1 x_1 +  \\beta_2 x_2 + \\ldots + \\beta_m x_m $ \n",
    "\n",
    "* Create a new empty list (`y_pred`) for saving predictions\n",
    "* For each row of x_test, take the dot product of the row with beta to calculate the prediction for that row\n",
    "* Append the predictions to `y_pred`\n",
    "* Print the new set of predictions"
   ]
  },
  {
   "cell_type": "code",
   "execution_count": null,
   "metadata": {},
   "outputs": [],
   "source": [
    "# Your code here "
   ]
  },
  {
   "cell_type": "markdown",
   "metadata": {},
   "source": [
    "## Step 5: Evaluate Model \n",
    "\n",
    "### Visualize Actual vs. Predicted values\n",
    "This is exciting, now your model can use the beta value to predict the price of houses given the input features. Let's plot these predictions against the actual values in `y_test` to see how much our model deviates. "
   ]
  },
  {
   "cell_type": "code",
   "execution_count": null,
   "metadata": {},
   "outputs": [],
   "source": [
    "# Plot predicted and actual values as line plots\n"
   ]
  },
  {
   "cell_type": "markdown",
   "metadata": {},
   "source": [
    "<img src =\"images/diff.png\" width=\"750\">\n",
    "\n",
    "This doesn't look so bad, does it? Your model, although isn't perfect at this stage, is making a good attempt to predict house prices although a few prediction seem a bit out. There could be a number of reasons for this. Let's try to dig a bit deeper to check model's predictive abilities by comparing these prediction with actual values of `y_test` individually. That will help you calculate the RMSE value (Root Mean Squared Error) for your model. \n",
    "### Root Mean Squared Error\n",
    "Here is the formula for this again. \n",
    "\n",
    "$$ \\large RMSE = \\sqrt{\\sum^N_{i=1}\\dfrac{ (\\text{Predicted}_i-\\text{Actual}_i)^2}{N}}$$\n",
    "\n",
    "* Initialize an empty array `err`\n",
    "* for each row in `y_test` and `y_pred`, take the squared difference and append error for each row in the `err` array\n",
    "* Calculate $RMSE$ from `err` using the formula shown above. "
   ]
  },
  {
   "cell_type": "code",
   "execution_count": null,
   "metadata": {},
   "outputs": [],
   "source": [
    "# Calculate RMSE\n",
    "\n",
    "# Due to random split, your answers may vary \n",
    "\n",
    "# RMSE = 16585.59639547113"
   ]
  },
  {
   "cell_type": "markdown",
   "metadata": {},
   "source": [
    "### Normalized Root Mean Squared Error\n",
    "The above error is clearly in terms of the dependent variable i.e. the final house price. You can also use a normalized mean squared error in case of multiple regression which can be calculated from RMSE using following the formula:\n",
    "\n",
    "* Calculate normalized Root Mean Squared Error\n",
    "\n",
    "\n",
    "$$ \\large NRMSE = \\dfrac{RMSE}{max_i y_i - min_i y_i} $$"
   ]
  },
  {
   "cell_type": "code",
   "execution_count": null,
   "metadata": {},
   "outputs": [],
   "source": [
    "# Calculate NRMSE\n",
    "\n",
    "# Due to random split, your answers may vary \n",
    "\n",
    "# 0.10051876603315836"
   ]
  },
  {
   "cell_type": "markdown",
   "metadata": {},
   "source": [
    "There it is. A complete multiple regression analysis using nothing but Numpy. Having good programming skills in numpy allows you to dig deeper into analytical algorithms in machine learning and deep learning. Using matrix multiplication techniques you saw here, you can easily build a whole neural network from scratch. \n",
    "\n",
    "## Level up - Optional \n",
    "\n",
    "* Calculate the R_squared and adjusted R_squared for the above experiment\n",
    "* Plot the residuals (similar to statsmodels) and comment on the variance and heteroscedasticity\n",
    "* Run the experiment in statsmodels and compare the performance of both approaches in terms of computational cost\n",
    "\n",
    "## Summary\n",
    "\n",
    "In this lab, you built a predictive model for predicting house prices. Remember this is a very naive implementation of regression modeling. The purpose here was to get an introduction to the applications of linear algebra into machine learning and predictive analysis. There are still have a number of shortcomings in this modeling approach and you can further apply a number of data modeling techniques to improve this model. "
   ]
  },
  {
   "cell_type": "code",
   "execution_count": null,
   "metadata": {},
   "outputs": [],
   "source": []
  }
 ],
 "metadata": {
  "kernelspec": {
   "display_name": "Python 3",
   "language": "python",
   "name": "python3"
  },
  "language_info": {
   "codemirror_mode": {
    "name": "ipython",
    "version": 3
   },
   "file_extension": ".py",
   "mimetype": "text/x-python",
   "name": "python",
   "nbconvert_exporter": "python",
   "pygments_lexer": "ipython3",
   "version": "3.6.6"
  }
 },
 "nbformat": 4,
 "nbformat_minor": 2
}
